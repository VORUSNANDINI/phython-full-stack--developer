{
  "nbformat": 4,
  "nbformat_minor": 0,
  "metadata": {
    "colab": {
      "name": "list1.ipynb",
      "provenance": [],
      "authorship_tag": "ABX9TyPI0D2oOcJdDvFwHSCmx9OT",
      "include_colab_link": true
    },
    "kernelspec": {
      "name": "python3",
      "display_name": "Python 3"
    },
    "language_info": {
      "name": "python"
    }
  },
  "cells": [
    {
      "cell_type": "markdown",
      "metadata": {
        "id": "view-in-github",
        "colab_type": "text"
      },
      "source": [
        "<a href=\"https://colab.research.google.com/github/VORUSNANDINI/phython-full-stack--developer/blob/main/list1.ipynb\" target=\"_parent\"><img src=\"https://colab.research.google.com/assets/colab-badge.svg\" alt=\"Open In Colab\"/></a>"
      ]
    },
    {
      "cell_type": "code",
      "source": [
        "list1=[\"apple\",\"banana\",\"cherry\"]\n",
        "print(list1)"
      ],
      "metadata": {
        "colab": {
          "base_uri": "https://localhost:8080/"
        },
        "id": "NQm0UV0ixCSS",
        "outputId": "2200a241-44ca-47be-d483-00a3c5d2ffa2"
      },
      "execution_count": 6,
      "outputs": [
        {
          "output_type": "stream",
          "name": "stdout",
          "text": [
            "['apple', 'banana', 'cherry']\n"
          ]
        }
      ]
    },
    {
      "cell_type": "code",
      "source": [
        "list2=[\"apple\",\"banana\",\"cherry\",\"apple\",\"apple\"]\n",
        "print(list2)"
      ],
      "metadata": {
        "colab": {
          "base_uri": "https://localhost:8080/"
        },
        "id": "FZw8d7qZxYob",
        "outputId": "f8ff96ac-e9e3-4b73-b682-2c8406f82a7d"
      },
      "execution_count": 7,
      "outputs": [
        {
          "output_type": "stream",
          "name": "stdout",
          "text": [
            "['apple', 'banana', 'cherry', 'apple', 'apple']\n"
          ]
        }
      ]
    },
    {
      "cell_type": "code",
      "source": [
        "list3=[1,2,3]\n",
        "print(list3)"
      ],
      "metadata": {
        "colab": {
          "base_uri": "https://localhost:8080/"
        },
        "id": "3s6Pgrc0xz_m",
        "outputId": "a0a452de-03f2-45c6-f920-26ae7c4713da"
      },
      "execution_count": 8,
      "outputs": [
        {
          "output_type": "stream",
          "name": "stdout",
          "text": [
            "[1, 2, 3]\n"
          ]
        }
      ]
    },
    {
      "cell_type": "code",
      "source": [
        "list4=[1,\"hello\",3.4]\n",
        "print(list4)"
      ],
      "metadata": {
        "colab": {
          "base_uri": "https://localhost:8080/"
        },
        "id": "_cEHG2Oqx_Mw",
        "outputId": "a44d0435-adfa-4e07-e2ec-ade60bfcdbf4"
      },
      "execution_count": 9,
      "outputs": [
        {
          "output_type": "stream",
          "name": "stdout",
          "text": [
            "[1, 'hello', 3.4]\n"
          ]
        }
      ]
    },
    {
      "cell_type": "code",
      "source": [
        "Nestlist=[\"mouse\",[8,4,6],['a']]\n",
        "print(Nestlist)"
      ],
      "metadata": {
        "colab": {
          "base_uri": "https://localhost:8080/"
        },
        "id": "0PKt95LvyOSH",
        "outputId": "f0c07581-2e4d-4de4-8d85-5669e9fe9598"
      },
      "execution_count": 10,
      "outputs": [
        {
          "output_type": "stream",
          "name": "stdout",
          "text": [
            "['mouse', [8, 4, 6], ['a']]\n"
          ]
        }
      ]
    },
    {
      "cell_type": "code",
      "source": [
        "print(list3[1])"
      ],
      "metadata": {
        "colab": {
          "base_uri": "https://localhost:8080/"
        },
        "id": "I5mz2-0Fyktz",
        "outputId": "8615d0bb-46b4-49c8-8dfb-299aca8cfb46"
      },
      "execution_count": 11,
      "outputs": [
        {
          "output_type": "stream",
          "name": "stdout",
          "text": [
            "2\n"
          ]
        }
      ]
    },
    {
      "cell_type": "code",
      "source": [
        "print(Nestlist[1][1])"
      ],
      "metadata": {
        "colab": {
          "base_uri": "https://localhost:8080/"
        },
        "id": "Cw6FGIisy8ZD",
        "outputId": "b9bd6e06-8c75-49d9-b4ef-7d55b3083e6a"
      },
      "execution_count": 12,
      "outputs": [
        {
          "output_type": "stream",
          "name": "stdout",
          "text": [
            "4\n"
          ]
        }
      ]
    }
  ]
}